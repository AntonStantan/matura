{
 "cells": [
  {
   "cell_type": "code",
   "execution_count": null,
   "id": "1c34b2dc-fda9-4f83-9564-2e35cec00923",
   "metadata": {},
   "outputs": [],
   "source": [
    "import vertexai\n",
    "from vertexai.language_models import TextGenerationModel\n"
   ]
  },
  {
   "cell_type": "code",
   "execution_count": null,
   "id": "c472f441-bb70-4193-ac98-056bb7466e2f",
   "metadata": {},
   "outputs": [],
   "source": [
    "project_id = \"modular-tube-469519-i1\"\n",
    "location = \"us-central1\"\n",
    "endpoint_id = \"8398688837999525888\"\n",
    "\n",
    "vertexai.init(project=project_id, location=location)\n"
   ]
  },
  {
   "cell_type": "code",
   "execution_count": null,
   "id": "62cbf004-c733-490f-ac6f-8f16dc8050c9",
   "metadata": {},
   "outputs": [],
   "source": [
    "tuned_gemini = TextGenerationModel.get_tuned_model(f\"projects/{project_id}/locations/{location}/endpoints/{endpoint_id}\")"
   ]
  },
  {
   "cell_type": "code",
   "execution_count": null,
   "id": "311ee1b2-675b-4568-806a-6bcd4609f481",
   "metadata": {},
   "outputs": [],
   "source": [
    "response = tuned_gemini.predict(\n",
    "    \"1+2+3\"\n",
    ")\n",
    "\n",
    "print(response.text)"
   ]
  }
 ],
 "metadata": {
  "kernelspec": {
   "display_name": "Python 3 (ipykernel)",
   "language": "python",
   "name": "python3"
  },
  "language_info": {
   "codemirror_mode": {
    "name": "ipython",
    "version": 3
   },
   "file_extension": ".py",
   "mimetype": "text/x-python",
   "name": "python",
   "nbconvert_exporter": "python",
   "pygments_lexer": "ipython3",
   "version": "3.12.9"
  }
 },
 "nbformat": 4,
 "nbformat_minor": 5
}
