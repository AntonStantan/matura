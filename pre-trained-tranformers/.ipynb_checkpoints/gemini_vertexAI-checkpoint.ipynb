{
 "cells": [
  {
   "cell_type": "code",
   "execution_count": 1,
   "id": "310c38ac-bdac-4b90-8d7b-6d2da118a60e",
   "metadata": {},
   "outputs": [],
   "source": [
    "import time\n",
    "import vertexai\n",
    "from vertexai.tuning import sft"
   ]
  },
  {
   "cell_type": "code",
   "execution_count": 2,
   "id": "7a0b856d-04a0-4f8a-aa87-c83742434c73",
   "metadata": {},
   "outputs": [],
   "source": [
    "vertexai.init(project=\"modular-tube-469519-i1\", location=\"us-central1\")"
   ]
  },
  {
   "cell_type": "code",
   "execution_count": 3,
   "id": "5b664538-dab3-43d9-9b41-663ed1f9a325",
   "metadata": {},
   "outputs": [],
   "source": [
    "my_training_dataset_path = \"gs://matura-gemini/my_dataset (1).jsonl\""
   ]
  },
  {
   "cell_type": "code",
   "execution_count": 4,
   "id": "97d44a16-d7c7-4383-8d08-0a9f48a6c716",
   "metadata": {},
   "outputs": [
    {
     "name": "stdout",
     "output_type": "stream",
     "text": [
      "Creating SupervisedTuningJob\n"
     ]
    },
    {
     "ename": "InvalidArgument",
     "evalue": "400 Row: 0. Missing required `contents` field.",
     "output_type": "error",
     "traceback": [
      "\u001b[31m---------------------------------------------------------------------------\u001b[39m",
      "\u001b[31m_InactiveRpcError\u001b[39m                         Traceback (most recent call last)",
      "\u001b[36mFile \u001b[39m\u001b[32m~\\Desktop\\matura_github\\HuggingFaceEnv\\Lib\\site-packages\\google\\api_core\\grpc_helpers.py:76\u001b[39m, in \u001b[36m_wrap_unary_errors.<locals>.error_remapped_callable\u001b[39m\u001b[34m(*args, **kwargs)\u001b[39m\n\u001b[32m     75\u001b[39m \u001b[38;5;28;01mtry\u001b[39;00m:\n\u001b[32m---> \u001b[39m\u001b[32m76\u001b[39m     \u001b[38;5;28;01mreturn\u001b[39;00m \u001b[43mcallable_\u001b[49m\u001b[43m(\u001b[49m\u001b[43m*\u001b[49m\u001b[43margs\u001b[49m\u001b[43m,\u001b[49m\u001b[43m \u001b[49m\u001b[43m*\u001b[49m\u001b[43m*\u001b[49m\u001b[43mkwargs\u001b[49m\u001b[43m)\u001b[49m\n\u001b[32m     77\u001b[39m \u001b[38;5;28;01mexcept\u001b[39;00m grpc.RpcError \u001b[38;5;28;01mas\u001b[39;00m exc:\n",
      "\u001b[36mFile \u001b[39m\u001b[32m~\\Desktop\\matura_github\\HuggingFaceEnv\\Lib\\site-packages\\grpc\\_channel.py:1178\u001b[39m, in \u001b[36m_UnaryUnaryMultiCallable.__call__\u001b[39m\u001b[34m(self, request, timeout, metadata, credentials, wait_for_ready, compression)\u001b[39m\n\u001b[32m   1175\u001b[39m state, call = \u001b[38;5;28mself\u001b[39m._blocking(\n\u001b[32m   1176\u001b[39m     request, timeout, metadata, credentials, wait_for_ready, compression\n\u001b[32m   1177\u001b[39m )\n\u001b[32m-> \u001b[39m\u001b[32m1178\u001b[39m \u001b[38;5;28;01mreturn\u001b[39;00m \u001b[43m_end_unary_response_blocking\u001b[49m\u001b[43m(\u001b[49m\u001b[43mstate\u001b[49m\u001b[43m,\u001b[49m\u001b[43m \u001b[49m\u001b[43mcall\u001b[49m\u001b[43m,\u001b[49m\u001b[43m \u001b[49m\u001b[38;5;28;43;01mFalse\u001b[39;49;00m\u001b[43m,\u001b[49m\u001b[43m \u001b[49m\u001b[38;5;28;43;01mNone\u001b[39;49;00m\u001b[43m)\u001b[49m\n",
      "\u001b[36mFile \u001b[39m\u001b[32m~\\Desktop\\matura_github\\HuggingFaceEnv\\Lib\\site-packages\\grpc\\_channel.py:1006\u001b[39m, in \u001b[36m_end_unary_response_blocking\u001b[39m\u001b[34m(state, call, with_call, deadline)\u001b[39m\n\u001b[32m   1005\u001b[39m \u001b[38;5;28;01melse\u001b[39;00m:\n\u001b[32m-> \u001b[39m\u001b[32m1006\u001b[39m     \u001b[38;5;28;01mraise\u001b[39;00m _InactiveRpcError(state)\n",
      "\u001b[31m_InactiveRpcError\u001b[39m: <_InactiveRpcError of RPC that terminated with:\n\tstatus = StatusCode.INVALID_ARGUMENT\n\tdetails = \"Row: 0. Missing required `contents` field.\"\n\tdebug_error_string = \"UNKNOWN:Error received from peer ipv6:%5B2a00:1450:400a:808::200a%5D:443 {grpc_status:3, grpc_message:\"Row: 0. Missing required `contents` field.\"}\"\n>",
      "\nThe above exception was the direct cause of the following exception:\n",
      "\u001b[31mInvalidArgument\u001b[39m                           Traceback (most recent call last)",
      "\u001b[36mCell\u001b[39m\u001b[36m \u001b[39m\u001b[32mIn[4]\u001b[39m\u001b[32m, line 1\u001b[39m\n\u001b[32m----> \u001b[39m\u001b[32m1\u001b[39m sft_tuning_job = \u001b[43msft\u001b[49m\u001b[43m.\u001b[49m\u001b[43mtrain\u001b[49m\u001b[43m(\u001b[49m\n\u001b[32m      2\u001b[39m \u001b[43m    \u001b[49m\u001b[43msource_model\u001b[49m\u001b[43m=\u001b[49m\u001b[33;43m\"\u001b[39;49m\u001b[33;43mgemini-2.0-flash-001\u001b[39;49m\u001b[33;43m\"\u001b[39;49m\u001b[43m,\u001b[49m\n\u001b[32m      3\u001b[39m \u001b[43m    \u001b[49m\u001b[43mtrain_dataset\u001b[49m\u001b[43m=\u001b[49m\u001b[43mmy_training_dataset_path\u001b[49m\u001b[43m,\u001b[49m\n\u001b[32m      4\u001b[39m \u001b[43m)\u001b[49m\n\u001b[32m      6\u001b[39m \u001b[38;5;66;03m# Polling for job completion\u001b[39;00m\n\u001b[32m      7\u001b[39m \u001b[38;5;28;01mwhile\u001b[39;00m \u001b[38;5;129;01mnot\u001b[39;00m sft_tuning_job.has_ended:\n",
      "\u001b[36mFile \u001b[39m\u001b[32m~\\Desktop\\matura_github\\HuggingFaceEnv\\Lib\\site-packages\\vertexai\\tuning\\_supervised_tuning.py:92\u001b[39m, in \u001b[36mtrain\u001b[39m\u001b[34m(source_model, train_dataset, validation_dataset, tuned_model_display_name, epochs, learning_rate_multiplier, adapter_size, labels)\u001b[39m\n\u001b[32m     88\u001b[39m \u001b[38;5;28;01mif\u001b[39;00m \u001b[38;5;28misinstance\u001b[39m(source_model, generative_models.GenerativeModel):\n\u001b[32m     89\u001b[39m     source_model = source_model._prediction_resource_name.rpartition(\u001b[33m\"\u001b[39m\u001b[33m/\u001b[39m\u001b[33m\"\u001b[39m)[-\u001b[32m1\u001b[39m]\n\u001b[32m     91\u001b[39m supervised_tuning_job = (\n\u001b[32m---> \u001b[39m\u001b[32m92\u001b[39m     \u001b[43mSupervisedTuningJob\u001b[49m\u001b[43m.\u001b[49m\u001b[43m_create\u001b[49m\u001b[43m(\u001b[49m\u001b[43m  \u001b[49m\u001b[38;5;66;43;03m# pylint: disable=protected-access\u001b[39;49;00m\n\u001b[32m     93\u001b[39m \u001b[43m        \u001b[49m\u001b[43mbase_model\u001b[49m\u001b[43m=\u001b[49m\u001b[43msource_model\u001b[49m\u001b[43m,\u001b[49m\n\u001b[32m     94\u001b[39m \u001b[43m        \u001b[49m\u001b[43mtuning_spec\u001b[49m\u001b[43m=\u001b[49m\u001b[43msupervised_tuning_spec\u001b[49m\u001b[43m,\u001b[49m\n\u001b[32m     95\u001b[39m \u001b[43m        \u001b[49m\u001b[43mtuned_model_display_name\u001b[49m\u001b[43m=\u001b[49m\u001b[43mtuned_model_display_name\u001b[49m\u001b[43m,\u001b[49m\n\u001b[32m     96\u001b[39m \u001b[43m        \u001b[49m\u001b[43mlabels\u001b[49m\u001b[43m=\u001b[49m\u001b[43mlabels\u001b[49m\u001b[43m,\u001b[49m\n\u001b[32m     97\u001b[39m \u001b[43m    \u001b[49m\u001b[43m)\u001b[49m\n\u001b[32m     98\u001b[39m )\n\u001b[32m     99\u001b[39m _ipython_utils.display_model_tuning_button(supervised_tuning_job)\n\u001b[32m    101\u001b[39m \u001b[38;5;28;01mreturn\u001b[39;00m supervised_tuning_job\n",
      "\u001b[36mFile \u001b[39m\u001b[32m~\\Desktop\\matura_github\\HuggingFaceEnv\\Lib\\site-packages\\vertexai\\tuning\\_tuning.py:219\u001b[39m, in \u001b[36mTuningJob._create\u001b[39m\u001b[34m(cls, base_model, tuning_spec, tuned_model_display_name, description, labels, project, location, credentials)\u001b[39m\n\u001b[32m    208\u001b[39m tuning_job: TuningJob = \u001b[38;5;28mcls\u001b[39m._construct_sdk_resource_from_gapic(\n\u001b[32m    209\u001b[39m     gapic_resource=gca_tuning_job,\n\u001b[32m    210\u001b[39m     project=project,\n\u001b[32m    211\u001b[39m     location=location,\n\u001b[32m    212\u001b[39m     credentials=credentials,\n\u001b[32m    213\u001b[39m )\n\u001b[32m    215\u001b[39m parent = aiplatform_initializer.global_config.common_location_path(\n\u001b[32m    216\u001b[39m     project=project, location=location\n\u001b[32m    217\u001b[39m )\n\u001b[32m--> \u001b[39m\u001b[32m219\u001b[39m created_gca_tuning_job = \u001b[43mtuning_job\u001b[49m\u001b[43m.\u001b[49m\u001b[43mapi_client\u001b[49m\u001b[43m.\u001b[49m\u001b[43mcreate_tuning_job\u001b[49m\u001b[43m(\u001b[49m\n\u001b[32m    220\u001b[39m \u001b[43m    \u001b[49m\u001b[43mparent\u001b[49m\u001b[43m=\u001b[49m\u001b[43mparent\u001b[49m\u001b[43m,\u001b[49m\n\u001b[32m    221\u001b[39m \u001b[43m    \u001b[49m\u001b[43mtuning_job\u001b[49m\u001b[43m=\u001b[49m\u001b[43mgca_tuning_job\u001b[49m\u001b[43m,\u001b[49m\n\u001b[32m    222\u001b[39m \u001b[43m\u001b[49m\u001b[43m)\u001b[49m\n\u001b[32m    223\u001b[39m tuning_job._gca_resource = created_gca_tuning_job\n\u001b[32m    225\u001b[39m _LOGGER.log_create_complete(\n\u001b[32m    226\u001b[39m     \u001b[38;5;28mcls\u001b[39m=\u001b[38;5;28mcls\u001b[39m,\n\u001b[32m    227\u001b[39m     resource=created_gca_tuning_job,\n\u001b[32m    228\u001b[39m     variable_name=\u001b[33m\"\u001b[39m\u001b[33mtuning_job\u001b[39m\u001b[33m\"\u001b[39m,\n\u001b[32m    229\u001b[39m     module_name=\u001b[33m\"\u001b[39m\u001b[33msft\u001b[39m\u001b[33m\"\u001b[39m,\n\u001b[32m    230\u001b[39m )\n",
      "\u001b[36mFile \u001b[39m\u001b[32m~\\Desktop\\matura_github\\HuggingFaceEnv\\Lib\\site-packages\\google\\cloud\\aiplatform_v1beta1\\services\\gen_ai_tuning_service\\client.py:935\u001b[39m, in \u001b[36mGenAiTuningServiceClient.create_tuning_job\u001b[39m\u001b[34m(self, request, parent, tuning_job, retry, timeout, metadata)\u001b[39m\n\u001b[32m    932\u001b[39m \u001b[38;5;28mself\u001b[39m._validate_universe_domain()\n\u001b[32m    934\u001b[39m \u001b[38;5;66;03m# Send the request.\u001b[39;00m\n\u001b[32m--> \u001b[39m\u001b[32m935\u001b[39m response = \u001b[43mrpc\u001b[49m\u001b[43m(\u001b[49m\n\u001b[32m    936\u001b[39m \u001b[43m    \u001b[49m\u001b[43mrequest\u001b[49m\u001b[43m,\u001b[49m\n\u001b[32m    937\u001b[39m \u001b[43m    \u001b[49m\u001b[43mretry\u001b[49m\u001b[43m=\u001b[49m\u001b[43mretry\u001b[49m\u001b[43m,\u001b[49m\n\u001b[32m    938\u001b[39m \u001b[43m    \u001b[49m\u001b[43mtimeout\u001b[49m\u001b[43m=\u001b[49m\u001b[43mtimeout\u001b[49m\u001b[43m,\u001b[49m\n\u001b[32m    939\u001b[39m \u001b[43m    \u001b[49m\u001b[43mmetadata\u001b[49m\u001b[43m=\u001b[49m\u001b[43mmetadata\u001b[49m\u001b[43m,\u001b[49m\n\u001b[32m    940\u001b[39m \u001b[43m\u001b[49m\u001b[43m)\u001b[49m\n\u001b[32m    942\u001b[39m \u001b[38;5;66;03m# Done; return the response.\u001b[39;00m\n\u001b[32m    943\u001b[39m \u001b[38;5;28;01mreturn\u001b[39;00m response\n",
      "\u001b[36mFile \u001b[39m\u001b[32m~\\Desktop\\matura_github\\HuggingFaceEnv\\Lib\\site-packages\\google\\api_core\\gapic_v1\\method.py:131\u001b[39m, in \u001b[36m_GapicCallable.__call__\u001b[39m\u001b[34m(self, timeout, retry, compression, *args, **kwargs)\u001b[39m\n\u001b[32m    128\u001b[39m \u001b[38;5;28;01mif\u001b[39;00m \u001b[38;5;28mself\u001b[39m._compression \u001b[38;5;129;01mis\u001b[39;00m \u001b[38;5;129;01mnot\u001b[39;00m \u001b[38;5;28;01mNone\u001b[39;00m:\n\u001b[32m    129\u001b[39m     kwargs[\u001b[33m\"\u001b[39m\u001b[33mcompression\u001b[39m\u001b[33m\"\u001b[39m] = compression\n\u001b[32m--> \u001b[39m\u001b[32m131\u001b[39m \u001b[38;5;28;01mreturn\u001b[39;00m \u001b[43mwrapped_func\u001b[49m\u001b[43m(\u001b[49m\u001b[43m*\u001b[49m\u001b[43margs\u001b[49m\u001b[43m,\u001b[49m\u001b[43m \u001b[49m\u001b[43m*\u001b[49m\u001b[43m*\u001b[49m\u001b[43mkwargs\u001b[49m\u001b[43m)\u001b[49m\n",
      "\u001b[36mFile \u001b[39m\u001b[32m~\\Desktop\\matura_github\\HuggingFaceEnv\\Lib\\site-packages\\google\\api_core\\grpc_helpers.py:78\u001b[39m, in \u001b[36m_wrap_unary_errors.<locals>.error_remapped_callable\u001b[39m\u001b[34m(*args, **kwargs)\u001b[39m\n\u001b[32m     76\u001b[39m     \u001b[38;5;28;01mreturn\u001b[39;00m callable_(*args, **kwargs)\n\u001b[32m     77\u001b[39m \u001b[38;5;28;01mexcept\u001b[39;00m grpc.RpcError \u001b[38;5;28;01mas\u001b[39;00m exc:\n\u001b[32m---> \u001b[39m\u001b[32m78\u001b[39m     \u001b[38;5;28;01mraise\u001b[39;00m exceptions.from_grpc_error(exc) \u001b[38;5;28;01mfrom\u001b[39;00m\u001b[38;5;250m \u001b[39m\u001b[34;01mexc\u001b[39;00m\n",
      "\u001b[31mInvalidArgument\u001b[39m: 400 Row: 0. Missing required `contents` field."
     ]
    }
   ],
   "source": [
    "sft_tuning_job = sft.train(\n",
    "    source_model=\"gemini-2.0-flash-001\",\n",
    "    train_dataset=my_training_dataset_path,\n",
    ")\n",
    "\n",
    "# Polling for job completion\n",
    "while not sft_tuning_job.has_ended:\n",
    "    time.sleep(60)\n",
    "    sft_tuning_job.refresh()\n",
    "\n",
    "print(sft_tuning_job.tuned_model_name)\n",
    "print(sft_tuning_job.tuned_model_endpoint_name)\n",
    "print(sft_tuning_job.experiment)"
   ]
  }
 ],
 "metadata": {
  "kernelspec": {
   "display_name": "HuggingFace Environement",
   "language": "python",
   "name": "my_venv_kernel"
  },
  "language_info": {
   "codemirror_mode": {
    "name": "ipython",
    "version": 3
   },
   "file_extension": ".py",
   "mimetype": "text/x-python",
   "name": "python",
   "nbconvert_exporter": "python",
   "pygments_lexer": "ipython3",
   "version": "3.13.5"
  }
 },
 "nbformat": 4,
 "nbformat_minor": 5
}
