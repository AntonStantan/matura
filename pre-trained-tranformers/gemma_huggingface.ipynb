{
 "cells": [
  {
   "cell_type": "code",
   "execution_count": 1,
   "id": "7d4bf303-33c4-4fe5-a7e5-2fd7cac9a072",
   "metadata": {},
   "outputs": [
    {
     "name": "stderr",
     "output_type": "stream",
     "text": [
      "/home/capybara/Desktop/matura_project_python/HFvenv/lib/python3.10/site-packages/tqdm/auto.py:21: TqdmWarning: IProgress not found. Please update jupyter and ipywidgets. See https://ipywidgets.readthedocs.io/en/stable/user_install.html\n",
      "  from .autonotebook import tqdm as notebook_tqdm\n"
     ]
    },
    {
     "name": "stdout",
     "output_type": "stream",
     "text": [
      "CUDA available: True\n",
      "Model output shape: torch.Size([1, 10, 768])\n",
      "Running on: GPU\n"
     ]
    }
   ],
   "source": [
    "import torch\n",
    "from transformers import AutoModel, AutoTokenizer\n",
    "\n",
    "# Check if GPU is available\n",
    "print(\"CUDA available:\", torch.cuda.is_available())\n",
    "\n",
    "# Load a model (will automatically use GPU if available)\n",
    "tokenizer = AutoTokenizer.from_pretrained(\"bert-base-uncased\")\n",
    "model = AutoModel.from_pretrained(\"bert-base-uncased\")\n",
    "\n",
    "# Move to GPU if available\n",
    "if torch.cuda.is_available():\n",
    "    model = model.cuda()\n",
    "\n",
    "# Test inference\n",
    "text = \"Hello, this is a test sentence.\"\n",
    "inputs = tokenizer(text, return_tensors=\"pt\")\n",
    "\n",
    "# Move inputs to GPU\n",
    "if torch.cuda.is_available():\n",
    "    inputs = inputs.to(\"cuda\")\n",
    "\n",
    "# Run model\n",
    "with torch.no_grad():\n",
    "    outputs = model(**inputs)\n",
    "\n",
    "print(\"Model output shape:\", outputs.last_hidden_state.shape)\n",
    "print(\"Running on:\", \"GPU\" if outputs.last_hidden_state.device.type == \"cuda\" else \"CPU\")"
   ]
  }
 ],
 "metadata": {
  "kernelspec": {
   "display_name": "Hugging Face venv",
   "language": "python",
   "name": "hfvenv"
  },
  "language_info": {
   "codemirror_mode": {
    "name": "ipython",
    "version": 3
   },
   "file_extension": ".py",
   "mimetype": "text/x-python",
   "name": "python",
   "nbconvert_exporter": "python",
   "pygments_lexer": "ipython3",
   "version": "3.10.12"
  }
 },
 "nbformat": 4,
 "nbformat_minor": 5
}
