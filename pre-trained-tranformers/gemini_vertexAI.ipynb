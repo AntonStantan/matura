{
 "cells": [
  {
   "cell_type": "code",
   "execution_count": 1,
   "id": "310c38ac-bdac-4b90-8d7b-6d2da118a60e",
   "metadata": {},
   "outputs": [],
   "source": [
    "import time\n",
    "import vertexai\n",
    "from vertexai.tuning import sft"
   ]
  },
  {
   "cell_type": "code",
   "execution_count": 2,
   "id": "7a0b856d-04a0-4f8a-aa87-c83742434c73",
   "metadata": {},
   "outputs": [],
   "source": [
    "vertexai.init(project=\"modular-tube-469519-i1\", location=\"us-central1\")"
   ]
  },
  {
   "cell_type": "code",
   "execution_count": 3,
   "id": "5b664538-dab3-43d9-9b41-663ed1f9a325",
   "metadata": {},
   "outputs": [],
   "source": [
    "my_training_dataset_path = \"gs://matura-gemini/my_dataset.jsonl\""
   ]
  },
  {
   "cell_type": "code",
   "execution_count": 4,
   "id": "97d44a16-d7c7-4383-8d08-0a9f48a6c716",
   "metadata": {},
   "outputs": [
    {
     "ename": "TypeError",
     "evalue": "train() got an unexpected keyword argument 'model'",
     "output_type": "error",
     "traceback": [
      "\u001b[31m---------------------------------------------------------------------------\u001b[39m",
      "\u001b[31mTypeError\u001b[39m                                 Traceback (most recent call last)",
      "\u001b[36mCell\u001b[39m\u001b[36m \u001b[39m\u001b[32mIn[4]\u001b[39m\u001b[32m, line 1\u001b[39m\n\u001b[32m----> \u001b[39m\u001b[32m1\u001b[39m sft_tuning_job = \u001b[43msft\u001b[49m\u001b[43m.\u001b[49m\u001b[43mtrain\u001b[49m\u001b[43m(\u001b[49m\n\u001b[32m      2\u001b[39m \u001b[43m    \u001b[49m\u001b[43mmodel\u001b[49m\u001b[43m=\u001b[49m\u001b[33;43m\"\u001b[39;49m\u001b[33;43mgemma-3n-e2b-1756198962472\u001b[39;49m\u001b[33;43m\"\u001b[39;49m\u001b[43m,\u001b[49m\n\u001b[32m      3\u001b[39m \u001b[43m    \u001b[49m\u001b[43mtrain_dataset\u001b[49m\u001b[43m=\u001b[49m\u001b[43mmy_training_dataset_path\u001b[49m\u001b[43m,\u001b[49m\n\u001b[32m      4\u001b[39m \u001b[43m)\u001b[49m\n\u001b[32m      6\u001b[39m \u001b[38;5;66;03m# Polling for job completion\u001b[39;00m\n\u001b[32m      7\u001b[39m \u001b[38;5;28;01mwhile\u001b[39;00m \u001b[38;5;129;01mnot\u001b[39;00m sft_tuning_job.has_ended:\n",
      "\u001b[31mTypeError\u001b[39m: train() got an unexpected keyword argument 'model'"
     ]
    }
   ],
   "source": [
    "sft_tuning_job = sft.train(\n",
    "    model=\"gemma-3n-e2b-1756198962472\",\n",
    "    train_dataset=my_training_dataset_path,\n",
    ")\n",
    "\n",
    "# Polling for job completion\n",
    "while not sft_tuning_job.has_ended:\n",
    "    time.sleep(60)\n",
    "    sft_tuning_job.refresh()\n",
    "\n",
    "print(sft_tuning_job.tuned_model_name)\n",
    "print(sft_tuning_job.tuned_model_endpoint_name)\n",
    "print(sft_tuning_job.experiment)"
   ]
  },
  {
   "cell_type": "code",
   "execution_count": null,
   "id": "d3d8786a-4ce1-4d22-bb95-4b342327356c",
   "metadata": {},
   "outputs": [],
   "source": [
    "from vertexai.preview.generative_models import GenerativeModel\n",
    "tuned_model_endpoint = sft_tuning_job.tuned_model_endpoint_name\n",
    "tuned_model = GenerativeModel(tuned_model_endpoint)"
   ]
  },
  {
   "cell_type": "code",
   "execution_count": null,
   "id": "4789c195-9055-48a1-a360-061af4c8482f",
   "metadata": {},
   "outputs": [],
   "source": [
    "response = tuned_model.generate_content(\"1 + 2 + 3\")\n",
    "print(response)"
   ]
  },
  {
   "cell_type": "code",
   "execution_count": null,
   "id": "ce8784d9-0953-42ac-bece-82bc156afaf0",
   "metadata": {},
   "outputs": [],
   "source": []
  }
 ],
 "metadata": {
  "kernelspec": {
   "display_name": "HuggingFace Environement",
   "language": "python",
   "name": "my_venv_kernel"
  },
  "language_info": {
   "codemirror_mode": {
    "name": "ipython",
    "version": 3
   },
   "file_extension": ".py",
   "mimetype": "text/x-python",
   "name": "python",
   "nbconvert_exporter": "python",
   "pygments_lexer": "ipython3",
   "version": "3.13.5"
  }
 },
 "nbformat": 4,
 "nbformat_minor": 5
}
