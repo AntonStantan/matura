{
 "cells": [
  {
   "cell_type": "code",
   "execution_count": 1,
   "id": "310c38ac-bdac-4b90-8d7b-6d2da118a60e",
   "metadata": {},
   "outputs": [],
   "source": [
    "import time\n",
    "import vertexai\n",
    "from vertexai.tuning import sft"
   ]
  },
  {
   "cell_type": "code",
   "execution_count": 2,
   "id": "7a0b856d-04a0-4f8a-aa87-c83742434c73",
   "metadata": {},
   "outputs": [],
   "source": [
    "vertexai.init(project=\"modular-tube-469519-i1\", location=\"us-central1\")"
   ]
  },
  {
   "cell_type": "code",
   "execution_count": 3,
   "id": "5b664538-dab3-43d9-9b41-663ed1f9a325",
   "metadata": {},
   "outputs": [],
   "source": [
    "my_training_dataset_path = \"gs://matura-gemini/my_dataset.jsonl\""
   ]
  },
  {
   "cell_type": "code",
   "execution_count": 4,
   "id": "97d44a16-d7c7-4383-8d08-0a9f48a6c716",
   "metadata": {},
   "outputs": [
    {
     "name": "stdout",
     "output_type": "stream",
     "text": [
      "Creating SupervisedTuningJob\n",
      "SupervisedTuningJob created. Resource name: projects/624947414672/locations/us-central1/tuningJobs/3166588351213993984\n",
      "To use this SupervisedTuningJob in another session:\n",
      "tuning_job = sft.SupervisedTuningJob('projects/624947414672/locations/us-central1/tuningJobs/3166588351213993984')\n",
      "View Tuning Job:\n",
      "https://console.cloud.google.com/vertex-ai/generative/language/locations/us-central1/tuning/tuningJob/3166588351213993984?project=624947414672\n"
     ]
    },
    {
     "ename": "ImportError",
     "evalue": "cannot import name 'display' from 'IPython.core.display' (C:\\Users\\A_118784\\Desktop\\matura_github\\HuggingFaceEnv\\Lib\\site-packages\\IPython\\core\\display.py)",
     "output_type": "error",
     "traceback": [
      "\u001b[31m---------------------------------------------------------------------------\u001b[39m",
      "\u001b[31mImportError\u001b[39m                               Traceback (most recent call last)",
      "\u001b[36mCell\u001b[39m\u001b[36m \u001b[39m\u001b[32mIn[4]\u001b[39m\u001b[32m, line 1\u001b[39m\n\u001b[32m----> \u001b[39m\u001b[32m1\u001b[39m sft_tuning_job = \u001b[43msft\u001b[49m\u001b[43m.\u001b[49m\u001b[43mtrain\u001b[49m\u001b[43m(\u001b[49m\n\u001b[32m      2\u001b[39m \u001b[43m    \u001b[49m\u001b[43msource_model\u001b[49m\u001b[43m=\u001b[49m\u001b[33;43m\"\u001b[39;49m\u001b[33;43mgemini-2.0-flash-001\u001b[39;49m\u001b[33;43m\"\u001b[39;49m\u001b[43m,\u001b[49m\n\u001b[32m      3\u001b[39m \u001b[43m    \u001b[49m\u001b[43mtrain_dataset\u001b[49m\u001b[43m=\u001b[49m\u001b[43mmy_training_dataset_path\u001b[49m\u001b[43m,\u001b[49m\n\u001b[32m      4\u001b[39m \u001b[43m)\u001b[49m\n\u001b[32m      6\u001b[39m \u001b[38;5;66;03m# Polling for job completion\u001b[39;00m\n\u001b[32m      7\u001b[39m \u001b[38;5;28;01mwhile\u001b[39;00m \u001b[38;5;129;01mnot\u001b[39;00m sft_tuning_job.has_ended:\n",
      "\u001b[36mFile \u001b[39m\u001b[32m~\\Desktop\\matura_github\\HuggingFaceEnv\\Lib\\site-packages\\vertexai\\tuning\\_supervised_tuning.py:99\u001b[39m, in \u001b[36mtrain\u001b[39m\u001b[34m(source_model, train_dataset, validation_dataset, tuned_model_display_name, epochs, learning_rate_multiplier, adapter_size, labels)\u001b[39m\n\u001b[32m     89\u001b[39m     source_model = source_model._prediction_resource_name.rpartition(\u001b[33m\"\u001b[39m\u001b[33m/\u001b[39m\u001b[33m\"\u001b[39m)[-\u001b[32m1\u001b[39m]\n\u001b[32m     91\u001b[39m supervised_tuning_job = (\n\u001b[32m     92\u001b[39m     SupervisedTuningJob._create(  \u001b[38;5;66;03m# pylint: disable=protected-access\u001b[39;00m\n\u001b[32m     93\u001b[39m         base_model=source_model,\n\u001b[32m   (...)\u001b[39m\u001b[32m     97\u001b[39m     )\n\u001b[32m     98\u001b[39m )\n\u001b[32m---> \u001b[39m\u001b[32m99\u001b[39m \u001b[43m_ipython_utils\u001b[49m\u001b[43m.\u001b[49m\u001b[43mdisplay_model_tuning_button\u001b[49m\u001b[43m(\u001b[49m\u001b[43msupervised_tuning_job\u001b[49m\u001b[43m)\u001b[49m\n\u001b[32m    101\u001b[39m \u001b[38;5;28;01mreturn\u001b[39;00m supervised_tuning_job\n",
      "\u001b[36mFile \u001b[39m\u001b[32m~\\Desktop\\matura_github\\HuggingFaceEnv\\Lib\\site-packages\\google\\cloud\\aiplatform\\utils\\_ipython_utils.py:254\u001b[39m, in \u001b[36mdisplay_model_tuning_button\u001b[39m\u001b[34m(tuning_job)\u001b[39m\n\u001b[32m    247\u001b[39m     \u001b[38;5;28;01mreturn\u001b[39;00m\n\u001b[32m    249\u001b[39m uri = (\n\u001b[32m    250\u001b[39m     \u001b[33m\"\u001b[39m\u001b[33mhttps://console.cloud.google.com/vertex-ai/generative/language/\u001b[39m\u001b[33m\"\u001b[39m\n\u001b[32m    251\u001b[39m     + \u001b[33mf\u001b[39m\u001b[33m\"\u001b[39m\u001b[33mlocations/\u001b[39m\u001b[38;5;132;01m{\u001b[39;00mlocation\u001b[38;5;132;01m}\u001b[39;00m\u001b[33m/tuning/tuningJob/\u001b[39m\u001b[38;5;132;01m{\u001b[39;00mtuning_job_id\u001b[38;5;132;01m}\u001b[39;00m\u001b[33m\"\u001b[39m\n\u001b[32m    252\u001b[39m     + \u001b[33mf\u001b[39m\u001b[33m\"\u001b[39m\u001b[33m?project=\u001b[39m\u001b[38;5;132;01m{\u001b[39;00mproject\u001b[38;5;132;01m}\u001b[39;00m\u001b[33m\"\u001b[39m\n\u001b[32m    253\u001b[39m )\n\u001b[32m--> \u001b[39m\u001b[32m254\u001b[39m \u001b[43mdisplay_link\u001b[49m\u001b[43m(\u001b[49m\u001b[33;43m\"\u001b[39;49m\u001b[33;43mView Tuning Job\u001b[39;49m\u001b[33;43m\"\u001b[39;49m\u001b[43m,\u001b[49m\u001b[43m \u001b[49m\u001b[43muri\u001b[49m\u001b[43m,\u001b[49m\u001b[43m \u001b[49m\u001b[33;43m\"\u001b[39;49m\u001b[33;43mtune\u001b[39;49m\u001b[33;43m\"\u001b[39;49m\u001b[43m)\u001b[49m\n",
      "\u001b[36mFile \u001b[39m\u001b[32m~\\Desktop\\matura_github\\HuggingFaceEnv\\Lib\\site-packages\\google\\cloud\\aiplatform\\utils\\_ipython_utils.py:145\u001b[39m, in \u001b[36mdisplay_link\u001b[39m\u001b[34m(text, url, icon)\u001b[39m\n\u001b[32m    127\u001b[39m \u001b[38;5;66;03m# Add the click handler for the link\u001b[39;00m\n\u001b[32m    128\u001b[39m html += \u001b[33mf\u001b[39m\u001b[33m\"\"\"\u001b[39m\n\u001b[32m    129\u001b[39m \u001b[33m    <script>\u001b[39m\n\u001b[32m    130\u001b[39m \u001b[33m      (function () \u001b[39m\u001b[38;5;130;01m{{\u001b[39;00m\n\u001b[32m   (...)\u001b[39m\u001b[32m    142\u001b[39m \u001b[33m    </script>\u001b[39m\n\u001b[32m    143\u001b[39m \u001b[33m\u001b[39m\u001b[33m\"\"\"\u001b[39m\n\u001b[32m--> \u001b[39m\u001b[32m145\u001b[39m \u001b[38;5;28;01mfrom\u001b[39;00m\u001b[38;5;250m \u001b[39m\u001b[34;01mIPython\u001b[39;00m\u001b[34;01m.\u001b[39;00m\u001b[34;01mcore\u001b[39;00m\u001b[34;01m.\u001b[39;00m\u001b[34;01mdisplay\u001b[39;00m\u001b[38;5;250m \u001b[39m\u001b[38;5;28;01mimport\u001b[39;00m display\n\u001b[32m    146\u001b[39m \u001b[38;5;28;01mfrom\u001b[39;00m\u001b[38;5;250m \u001b[39m\u001b[34;01mIPython\u001b[39;00m\u001b[34;01m.\u001b[39;00m\u001b[34;01mdisplay\u001b[39;00m\u001b[38;5;250m \u001b[39m\u001b[38;5;28;01mimport\u001b[39;00m HTML\n\u001b[32m    148\u001b[39m display(HTML(html))\n",
      "\u001b[31mImportError\u001b[39m: cannot import name 'display' from 'IPython.core.display' (C:\\Users\\A_118784\\Desktop\\matura_github\\HuggingFaceEnv\\Lib\\site-packages\\IPython\\core\\display.py)"
     ]
    }
   ],
   "source": [
    "sft_tuning_job = sft.train(\n",
    "    source_model=\"gemini-2.0-flash-001\",\n",
    "    train_dataset=my_training_dataset_path,\n",
    ")\n",
    "\n",
    "# Polling for job completion\n",
    "while not sft_tuning_job.has_ended:\n",
    "    time.sleep(60)\n",
    "    sft_tuning_job.refresh()\n",
    "\n",
    "print(sft_tuning_job.tuned_model_name)\n",
    "print(sft_tuning_job.tuned_model_endpoint_name)\n",
    "print(sft_tuning_job.experiment)"
   ]
  }
 ],
 "metadata": {
  "kernelspec": {
   "display_name": "HuggingFace Environement",
   "language": "python",
   "name": "my_venv_kernel"
  },
  "language_info": {
   "codemirror_mode": {
    "name": "ipython",
    "version": 3
   },
   "file_extension": ".py",
   "mimetype": "text/x-python",
   "name": "python",
   "nbconvert_exporter": "python",
   "pygments_lexer": "ipython3",
   "version": "3.13.5"
  }
 },
 "nbformat": 4,
 "nbformat_minor": 5
}
