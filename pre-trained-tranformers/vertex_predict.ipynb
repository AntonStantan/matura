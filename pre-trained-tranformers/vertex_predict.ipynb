{
 "cells": [
  {
   "cell_type": "code",
   "execution_count": 1,
   "id": "1c34b2dc-fda9-4f83-9564-2e35cec00923",
   "metadata": {},
   "outputs": [],
   "source": [
    "import vertexai\n",
    "from vertexai.language_models import TextGenerationModel\n"
   ]
  },
  {
   "cell_type": "code",
   "execution_count": 2,
   "id": "c472f441-bb70-4193-ac98-056bb7466e2f",
   "metadata": {},
   "outputs": [],
   "source": [
    "project_id = \"modular-tube-469519-i1\"\n",
    "location = \"us-central1\"\n",
    "\n",
    "vertexai.init(project=project_id, location=location)\n"
   ]
  },
  {
   "cell_type": "code",
   "execution_count": 3,
   "id": "3a1a6c07-18a2-429f-8cda-b282df3c9714",
   "metadata": {},
   "outputs": [
    {
     "name": "stderr",
     "output_type": "stream",
     "text": [
      "C:\\Users\\A_118784\\Desktop\\matura_github\\HuggingFaceEnv\\Lib\\site-packages\\vertexai\\generative_models\\_generative_models.py:433: UserWarning: This feature is deprecated as of June 24, 2025 and will be removed on June 24, 2026. For details, see https://cloud.google.com/vertex-ai/generative-ai/docs/deprecations/genai-vertexai-sdk.\n",
      "  warning_logs.show_deprecation_warning()\n"
     ]
    }
   ],
   "source": [
    "from vertexai.generative_models import GenerativeModel\n",
    "\n",
    "tuned_model_endpoint = \"projects/624947414672/locations/us-central1/endpoints/737784396865601536\"\n",
    "tuned_model = GenerativeModel(tuned_model_endpoint)"
   ]
  },
  {
   "cell_type": "code",
   "execution_count": 4,
   "id": "311ee1b2-675b-4568-806a-6bcd4609f481",
   "metadata": {},
   "outputs": [
    {
     "name": "stdout",
     "output_type": "stream",
     "text": [
      "candidates {\n",
      "  content {\n",
      "    role: \"model\"\n",
      "    parts {\n",
      "      text: \"6.0\"\n",
      "    }\n",
      "  }\n",
      "  finish_reason: STOP\n",
      "  avg_logprobs: -0.11347836256027222\n",
      "}\n",
      "usage_metadata {\n",
      "  prompt_token_count: 7\n",
      "  candidates_token_count: 3\n",
      "  total_token_count: 30\n",
      "  prompt_tokens_details {\n",
      "    modality: TEXT\n",
      "    token_count: 7\n",
      "  }\n",
      "  candidates_tokens_details {\n",
      "    modality: TEXT\n",
      "    token_count: 3\n",
      "  }\n",
      "  thoughts_token_count: 20\n",
      "}\n",
      "model_version: \"gemini-2.5-pro@default\"\n",
      "create_time {\n",
      "  seconds: 1755804054\n",
      "  nanos: 243840000\n",
      "}\n",
      "response_id: \"lnGnaIDxDr3chMIP3I7eiQM\"\n",
      "\n"
     ]
    }
   ],
   "source": [
    "response = tuned_model.generate_content(\"1 + 2 + 3\")\n",
    "print(response)"
   ]
  },
  {
   "cell_type": "code",
   "execution_count": 5,
   "id": "62107626-f5af-44bb-9b66-9e3687b64771",
   "metadata": {},
   "outputs": [
    {
     "name": "stdout",
     "output_type": "stream",
     "text": [
      "-3 - -3 - 0\n",
      "2543\n",
      "0.0\n",
      "\n",
      "Expressions not in x:\n",
      "-1 + -2 - -5\n",
      "True\n",
      "1457\n",
      "2.0\n",
      "15\n",
      "-4.0\n",
      "[-5.   1.   1.   0.5  0.5  0.5  0.5  0.5  0.5  0.5  0.5  0.5  0.5  0.5\n",
      "  0.5]\n",
      "Successfully imported variables!\n"
     ]
    }
   ],
   "source": [
    "import os\n",
    "import sys\n",
    "\n",
    "# Get the absolute path of the current script's directory\n",
    "current_dir = os.path.dirname(os.path.abspath(\"gemini2.5.ipynb\"))\n",
    "\n",
    "# Get the absolute path of the parent directory (project_folder)\n",
    "parent_dir = os.path.dirname(current_dir)\n",
    "\n",
    "# Add the parent directory to the Python path\n",
    "sys.path.append(parent_dir)\n",
    "\n",
    "# Now you can import from GetXY.py\n",
    "from GetXY import expressions_not_in_x, outsideExpr, longer_Exps, y_test, out_y_test, long_y_test\n",
    "\n",
    "# ... rest of your code\n",
    "print(\"Successfully imported variables!\")"
   ]
  },
  {
   "cell_type": "code",
   "execution_count": 6,
   "id": "16ee21d7-7450-4db9-9dd5-d78377a97789",
   "metadata": {},
   "outputs": [],
   "source": [
    "import numpy as np\n",
    "new_len1 = len(expressions_not_in_x) // 10\n",
    "new_len2 = len(outsideExpr) // 10\n",
    "new_len3 = len(longer_Exps) // 10\n",
    "expressions_not_in_x = expressions_not_in_x[:new_len1]\n",
    "outsideExpr = outsideExpr[:new_len2]\n",
    "longer_Exps = longer_Exps[:new_len3]"
   ]
  },
  {
   "cell_type": "code",
   "execution_count": 7,
   "id": "5ecfa5be-c980-471b-8669-fd43fa7eaa3f",
   "metadata": {},
   "outputs": [
    {
     "name": "stdout",
     "output_type": "stream",
     "text": [
      "Progress: 6.9%\n",
      "Skipping entry 10: Conversion failed for response ''. Error: could not convert string to float: ''\n",
      "\n",
      "\n",
      "Progress: 34.5%\n",
      "Skipping entry 50: Conversion failed for response ''. Error: could not convert string to float: ''\n",
      "\n",
      "\n",
      "Progress: 51.0%\n",
      "Skipping entry 74: Conversion failed for response ''. Error: could not convert string to float: ''\n",
      "\n",
      "\n",
      "Progress: 76.6%\n",
      "Skipping entry 111: Conversion failed for response ''. Error: could not convert string to float: ''\n",
      "\n",
      "\n",
      "Progress: 81.4%\n",
      "Skipping entry 118: Conversion failed for response ''. Error: could not convert string to float: ''\n",
      "\n",
      "\n",
      "Progress: 82.1%\n",
      "Skipping entry 119: Conversion failed for response ''. Error: could not convert string to float: ''\n",
      "\n",
      "\n",
      "Progress: 85.5%\n",
      "Skipping entry 124: Conversion failed for response ''. Error: could not convert string to float: ''\n",
      "\n",
      "\n",
      "Progress: 100.0%\n",
      "0.0\n",
      "errors: 7\n",
      "error denstity: 4.83%\n"
     ]
    }
   ],
   "source": [
    "predsInRange = []\n",
    "diffInRange = []\n",
    "count_errors = 0\n",
    "for i in range(len(expressions_not_in_x)):\n",
    "    pred = tuned_model.generate_content(expressions_not_in_x[i])\n",
    "    if response and response.text:\n",
    "        try:\n",
    "            pred = int(float(pred.text))\n",
    "            predsInRange.append(pred)\n",
    "            diff = abs(pred - y_test[i])\n",
    "            diffInRange.append(diff)\n",
    "\n",
    "        except (ValueError, TypeError) as e:\n",
    "            # Handle cases where conversion still fails (e.g., non-numeric text)\n",
    "            count_errors += 1\n",
    "            print(f\"\\nSkipping entry {i}: Conversion failed for response '{pred.text}'. Error: {e}\")\n",
    "            print(\"\\n\")\n",
    "    else:\n",
    "        # Handle cases with an empty or invalid response\n",
    "        count_errors += 1\n",
    "        print(f\"\\nSkipping entry {i}: The model returned an empty response.\")\n",
    "        print(\"\\n\")\n",
    "    progress = (i+1) / len(expressions_not_in_x) * 100\n",
    "    sys.stdout.write(f\"\\rProgress: {progress:.1f}%\")\n",
    "    sys.stdout.flush()  # Ensures the text is immediately written\n",
    "sys.stdout.write(\"\\n\")\n",
    "print(np.mean(diffInRange))\n",
    "print(f\"errors: {count_errors}\")\n",
    "error_density = count_errors / len(expressions_not_in_x) * 100\n",
    "print(f\"error denstity: {error_density:.2f}%\")"
   ]
  },
  {
   "cell_type": "code",
   "execution_count": 8,
   "id": "aba85049-1e60-4ef3-bf6d-2044b9a5f6ea",
   "metadata": {},
   "outputs": [
    {
     "name": "stdout",
     "output_type": "stream",
     "text": [
      "Progress: 40.2%\n",
      "Skipping entry 82: The model returned an empty response.\n",
      "\n",
      "\n",
      "Progress: 100.0%\n",
      "0.0\n",
      "errors: 1\n",
      "error denstity: 0.49%\n"
     ]
    }
   ],
   "source": [
    "predsOutRange = []\n",
    "diffOutRange = []\n",
    "count_errors = 0\n",
    "\n",
    "for i in range(len(outsideExpr)):\n",
    "    response = tuned_model.generate_content(outsideExpr[i])\n",
    "\n",
    "    if response and response.text:\n",
    "        try:\n",
    "            pred = int(float(response.text))\n",
    "            predsOutRange.append(pred)\n",
    "            diff = abs(pred - out_y_test[i])\n",
    "            diffOutRange.append(diff)\n",
    "\n",
    "        except (ValueError, TypeError) as e:\n",
    "            count_errors += 1\n",
    "            print(f\"\\nSkipping entry {i}: Conversion failed for response '{response.text}'. Error: {e}\")\n",
    "            print(\"\\n\")\n",
    "    else:\n",
    "        count_errors += 1\n",
    "        print(f\"\\nSkipping entry {i}: The model returned an empty response.\")\n",
    "        print(\"\\n\")\n",
    "\n",
    "    progress = (i + 1) / len(outsideExpr) * 100\n",
    "    sys.stdout.write(f\"\\rProgress: {progress:.1f}%\")\n",
    "    sys.stdout.flush()\n",
    "\n",
    "sys.stdout.write(\"\\n\")\n",
    "print(np.mean(diffOutRange))\n",
    "print(f\"errors: {count_errors}\")\n",
    "error_density = count_errors / len(outsideExpr) * 100\n",
    "print(f\"error denstity: {error_density:.2f}%\")"
   ]
  },
  {
   "cell_type": "code",
   "execution_count": 9,
   "id": "c84170a6-f841-421e-b1a0-363b77ee37db",
   "metadata": {},
   "outputs": [
    {
     "name": "stdout",
     "output_type": "stream",
     "text": [
      "Progress: 11.4%\n",
      "Skipping entry 8: The model returned an empty response.\n",
      "\n",
      "\n",
      "Progress: 31.4%\n",
      "Skipping entry 22: The model returned an empty response.\n",
      "\n",
      "\n",
      "Progress: 32.9%\n",
      "Skipping entry 23: The model returned an empty response.\n",
      "\n",
      "\n",
      "Progress: 41.4%\n",
      "Skipping entry 29: The model returned an empty response.\n",
      "\n",
      "\n",
      "Progress: 70.0%\n",
      "Skipping entry 49: The model returned an empty response.\n",
      "\n",
      "\n",
      "Progress: 78.6%\n",
      "Skipping entry 55: The model returned an empty response.\n",
      "\n",
      "\n",
      "Progress: 98.6%\n",
      "Skipping entry 69: The model returned an empty response.\n",
      "\n",
      "\n",
      "Progress: 100.0%\n",
      "0.0\n",
      "errors: 7\n",
      "error denstity: 10.00%\n"
     ]
    }
   ],
   "source": [
    "predsLongRange = []\n",
    "diffLongRange = []\n",
    "count_errors = 0\n",
    "for i in range(len(longer_Exps)):\n",
    "    response = tuned_model.generate_content(longer_Exps[i])\n",
    "    if response and response.text:\n",
    "        try:\n",
    "            pred = int(float(response.text))\n",
    "            predsLongRange.append(pred)\n",
    "            diff = abs(pred - long_y_test[i])\n",
    "            diffLongRange.append(diff)\n",
    "\n",
    "        except (ValueError, TypeError) as e:\n",
    "            count_errors += 1\n",
    "            print(f\"\\nSkipping entry {i}: Conversion failed for response '{response.text}'. Error: {e}\")\n",
    "            print(\"\\n\")\n",
    "\n",
    "    else:\n",
    "        count_errors += 1\n",
    "        print(f\"\\nSkipping entry {i}: The model returned an empty response.\")\n",
    "        print(\"\\n\")\n",
    "\n",
    "\n",
    "    progress = (i + 1) / len(longer_Exps) * 100\n",
    "    sys.stdout.write(f\"\\rProgress: {progress:.1f}%\")\n",
    "    sys.stdout.flush()\n",
    "\n",
    "sys.stdout.write(\"\\n\")\n",
    "print(np.mean(diffLongRange))\n",
    "print(f\"errors: {count_errors}\")\n",
    "error_density = count_errors / len(longer_Exps) * 100\n",
    "print(f\"error denstity: {error_density:.2f}%\")"
   ]
  },
  {
   "cell_type": "code",
   "execution_count": 10,
   "id": "79b7be28-00d6-4c73-a687-0ca9e1a1e767",
   "metadata": {},
   "outputs": [
    {
     "name": "stdout",
     "output_type": "stream",
     "text": [
      "\n",
      "\n",
      "\n"
     ]
    }
   ],
   "source": [
    "print()\n",
    "print()\n",
    "print()\n"
   ]
  }
 ],
 "metadata": {
  "kernelspec": {
   "display_name": "Python 3 (ipykernel)",
   "language": "python",
   "name": "python3"
  },
  "language_info": {
   "codemirror_mode": {
    "name": "ipython",
    "version": 3
   },
   "file_extension": ".py",
   "mimetype": "text/x-python",
   "name": "python",
   "nbconvert_exporter": "python",
   "pygments_lexer": "ipython3",
   "version": "3.10.12"
  }
 },
 "nbformat": 4,
 "nbformat_minor": 5
}
